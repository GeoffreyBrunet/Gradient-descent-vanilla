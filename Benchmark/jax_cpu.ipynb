{
  "cells": [
    {
      "cell_type": "code",
      "source": [
        "import jax.numpy as jnp"
      ],
      "metadata": {
        "id": "MCUa7Do7xGIF"
      },
      "execution_count": 1,
      "outputs": []
    },
    {
      "cell_type": "code",
      "source": [
        "!lscpu |grep 'Model name'"
      ],
      "metadata": {
        "colab": {
          "base_uri": "https://localhost:8080/"
        },
        "id": "x5RVG2wvx7BD",
        "outputId": "76c1e017-78d2-4e49-cfae-6613f3588258"
      },
      "execution_count": 2,
      "outputs": [
        {
          "output_type": "stream",
          "name": "stdout",
          "text": [
            "Model name:                      Intel(R) Xeon(R) CPU @ 2.20GHz\n"
          ]
        }
      ]
    },
    {
      "cell_type": "code",
      "source": [
        "def f(x):\n",
        "    return 2 * x * x * jnp.cos(x) - 5 * x"
      ],
      "metadata": {
        "id": "wQlPhGePx8P5"
      },
      "execution_count": 3,
      "outputs": []
    },
    {
      "cell_type": "code",
      "source": [
        "def df(x):\n",
        "    return 4 * x * jnp.cos(x) - 2 * x * x * jnp.sin(x) - 5"
      ],
      "metadata": {
        "id": "tRNAtSqrx92g"
      },
      "execution_count": 4,
      "outputs": []
    },
    {
      "cell_type": "code",
      "source": [
        "def gradient_descent(x, y, alpha: float, epochs: int):\n",
        "    for i in range(epochs):\n",
        "        x = jnp.concatenate([x, jnp.array([x[i] - alpha * df(x[i])])])\n",
        "        y = jnp.concatenate([y, jnp.array([f(x[i + 1])])])\n",
        "    return x, y"
      ],
      "metadata": {
        "id": "u0o3KY_Jx_Nf"
      },
      "execution_count": 5,
      "outputs": []
    },
    {
      "cell_type": "code",
      "source": [
        "curve = jnp.linspace(-5, 5, 100)\n",
        "alpha = 0.05\n",
        "epochs = 20\n",
        "x = jnp.array([-1.])\n",
        "y = jnp.array([f(x[0])])\n",
        "%timeit gradient_descent(x=x, y=y, alpha=alpha, epochs=epochs)"
      ],
      "metadata": {
        "colab": {
          "base_uri": "https://localhost:8080/"
        },
        "id": "lC-lAx26yAzk",
        "outputId": "18d60e91-495e-49c2-ce94-768bc0c5f843"
      },
      "execution_count": 6,
      "outputs": [
        {
          "output_type": "stream",
          "name": "stderr",
          "text": [
            "WARNING:jax._src.lib.xla_bridge:No GPU/TPU found, falling back to CPU. (Set TF_CPP_MIN_LOG_LEVEL=0 and rerun for more info.)\n"
          ]
        },
        {
          "output_type": "stream",
          "name": "stdout",
          "text": [
            "80 ms ± 8.2 ms per loop (mean ± std. dev. of 7 runs, 1 loop each)\n"
          ]
        }
      ]
    }
  ],
  "metadata": {
    "colab": {
      "provenance": []
    },
    "gpuClass": "standard",
    "kernelspec": {
      "display_name": "base",
      "language": "python",
      "name": "python3"
    },
    "language_info": {
      "name": "python",
      "version": "3.10.9 | packaged by conda-forge | (main, Feb  2 2023, 20:26:08) [Clang 14.0.6 ]"
    },
    "vscode": {
      "interpreter": {
        "hash": "c6e4e9f98eb68ad3b7c296f83d20e6de614cb42e90992a65aa266555a3137d0d"
      }
    }
  },
  "nbformat": 4,
  "nbformat_minor": 0
}