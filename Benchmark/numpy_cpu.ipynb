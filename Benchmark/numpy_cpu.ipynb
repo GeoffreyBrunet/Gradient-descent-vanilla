{
  "cells": [
    {
      "cell_type": "code",
      "source": [
        "import numpy as np\n",
        "import matplotlib.pyplot as plt"
      ],
      "metadata": {
        "id": "eq8_Jaou4CWh"
      },
      "execution_count": 1,
      "outputs": []
    },
    {
      "cell_type": "code",
      "source": [
        "!lscpu |grep 'Model name'"
      ],
      "metadata": {
        "colab": {
          "base_uri": "https://localhost:8080/"
        },
        "id": "If_qyE394C6v",
        "outputId": "80eb785f-d452-4e56-8d98-81a874aac109"
      },
      "execution_count": 2,
      "outputs": [
        {
          "output_type": "stream",
          "name": "stdout",
          "text": [
            "Model name:                      Intel(R) Xeon(R) CPU @ 2.20GHz\n"
          ]
        }
      ]
    },
    {
      "cell_type": "code",
      "source": [
        "def f(x):\n",
        "    return 2 * x * x * np.cos(x) - 5 * x"
      ],
      "metadata": {
        "id": "JvNYJLxs4DSq"
      },
      "execution_count": 3,
      "outputs": []
    },
    {
      "cell_type": "code",
      "source": [
        "def df(x):\n",
        "    return 4 * x * np.cos(x) - 2 * x * x * np.sin(x) - 5"
      ],
      "metadata": {
        "id": "DeYR03E44Djl"
      },
      "execution_count": 4,
      "outputs": []
    },
    {
      "cell_type": "code",
      "source": [
        "def gradient_descent(x, y, alpha, epochs):\n",
        "    for i in range(epochs):\n",
        "        x.append(x[i] - alpha * df(x[i]))\n",
        "        y.append(f(x[i + 1]))\n",
        "    return x, y"
      ],
      "metadata": {
        "id": "X1ZR5j9X4JK9"
      },
      "execution_count": 5,
      "outputs": []
    },
    {
      "cell_type": "code",
      "source": [
        "curve = np.linspace(-5, 5, 100)\n",
        "alpha = 0.05\n",
        "epochs = 20\n",
        "x = [-1.]\n",
        "y = [f(x[0])]\n",
        "%timeit gradient_descent(x=x, y=y, alpha=alpha, epochs=epochs)"
      ],
      "metadata": {
        "colab": {
          "base_uri": "https://localhost:8080/"
        },
        "id": "J8namo7a4JEL",
        "outputId": "9feff298-8b7b-4d5b-c09e-076f51f2d080"
      },
      "execution_count": 6,
      "outputs": [
        {
          "output_type": "stream",
          "name": "stdout",
          "text": [
            "173 µs ± 57.1 µs per loop (mean ± std. dev. of 7 runs, 10000 loops each)\n"
          ]
        }
      ]
    }
  ],
  "metadata": {
    "colab": {
      "provenance": []
    },
    "gpuClass": "standard",
    "kernelspec": {
      "display_name": "base",
      "language": "python",
      "name": "python3"
    },
    "language_info": {
      "name": "python",
      "version": "3.10.9 | packaged by conda-forge | (main, Feb  2 2023, 20:26:08) [Clang 14.0.6 ]"
    },
    "vscode": {
      "interpreter": {
        "hash": "c6e4e9f98eb68ad3b7c296f83d20e6de614cb42e90992a65aa266555a3137d0d"
      }
    }
  },
  "nbformat": 4,
  "nbformat_minor": 0
}