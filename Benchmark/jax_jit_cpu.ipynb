{
  "cells": [
    {
      "cell_type": "code",
      "execution_count": 1,
      "metadata": {
        "id": "MCUa7Do7xGIF"
      },
      "outputs": [],
      "source": [
        "from functools import partial\n",
        "import jax\n",
        "import jax.numpy as jnp"
      ]
    },
    {
      "cell_type": "code",
      "execution_count": 2,
      "metadata": {
        "colab": {
          "base_uri": "https://localhost:8080/"
        },
        "id": "x5RVG2wvx7BD",
        "outputId": "a113d673-e426-40e0-8755-1578c2d50444"
      },
      "outputs": [
        {
          "name": "stdout",
          "output_type": "stream",
          "text": [
            "Model name:                      Intel(R) Xeon(R) CPU @ 2.20GHz\n"
          ]
        }
      ],
      "source": [
        "!lscpu |grep 'Model name'"
      ]
    },
    {
      "cell_type": "code",
      "execution_count": 3,
      "metadata": {
        "id": "wQlPhGePx8P5"
      },
      "outputs": [],
      "source": [
        "@jax.jit\n",
        "def f(x):\n",
        "    return 2 * x * x * jnp.cos(x) - 5 * x"
      ]
    },
    {
      "cell_type": "code",
      "execution_count": 4,
      "metadata": {
        "id": "tRNAtSqrx92g"
      },
      "outputs": [],
      "source": [
        "@jax.jit\n",
        "def df(x):\n",
        "    return 4 * x * jnp.cos(x) - 2 * x * x * jnp.sin(x) - 5"
      ]
    },
    {
      "cell_type": "code",
      "execution_count": 5,
      "metadata": {
        "id": "u0o3KY_Jx_Nf"
      },
      "outputs": [],
      "source": [
        "@partial(jax.jit, static_argnames=['alpha', 'epochs'])\n",
        "def gradient_descent(x, y, alpha: float, epochs: int):\n",
        "    for i in range(epochs):\n",
        "        x = jnp.concatenate([x, jnp.array([x[i] - alpha * df(x[i])])])\n",
        "        y = jnp.concatenate([y, jnp.array([f(x[i + 1])])])\n",
        "    return x, y"
      ]
    },
    {
      "cell_type": "code",
      "execution_count": 6,
      "metadata": {
        "colab": {
          "base_uri": "https://localhost:8080/"
        },
        "id": "lC-lAx26yAzk",
        "outputId": "c844aee6-5121-410a-d198-9a3f51ba3b01"
      },
      "outputs": [
        {
          "name": "stderr",
          "output_type": "stream",
          "text": [
            "WARNING:jax._src.lib.xla_bridge:No GPU/TPU found, falling back to CPU. (Set TF_CPP_MIN_LOG_LEVEL=0 and rerun for more info.)\n"
          ]
        },
        {
          "name": "stdout",
          "output_type": "stream",
          "text": [
            "The slowest run took 6.52 times longer than the fastest. This could mean that an intermediate result is being cached.\n",
            "14.4 µs ± 14.3 µs per loop (mean ± std. dev. of 7 runs, 1 loop each)\n"
          ]
        }
      ],
      "source": [
        "curve = jnp.linspace(-5, 5, 100)\n",
        "alpha = 0.05\n",
        "epochs = 20\n",
        "x = jnp.array([-1.])\n",
        "y = jnp.array([f(x[0])])\n",
        "%timeit gradient_descent(x=x, y=y, alpha=alpha, epochs=epochs)"
      ]
    }
  ],
  "metadata": {
    "colab": {
      "provenance": []
    },
    "gpuClass": "standard",
    "kernelspec": {
      "display_name": "Python 3",
      "language": "python",
      "name": "python3"
    },
    "language_info": {
      "name": "python",
      "version": "3.11.1 (main, Dec 23 2022, 09:28:24) [Clang 14.0.0 (clang-1400.0.29.202)]"
    },
    "vscode": {
      "interpreter": {
        "hash": "5c7b89af1651d0b8571dde13640ecdccf7d5a6204171d6ab33e7c296e100e08a"
      }
    }
  },
  "nbformat": 4,
  "nbformat_minor": 0
}
