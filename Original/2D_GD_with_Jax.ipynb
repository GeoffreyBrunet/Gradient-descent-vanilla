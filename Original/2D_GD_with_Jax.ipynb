{
  "cells": [
    {
      "cell_type": "markdown",
      "metadata": {
        "id": "XD9_A1ovg_EW"
      },
      "source": [
        "# 2D Gradient Descent with google/jax"
      ]
    },
    {
      "cell_type": "markdown",
      "metadata": {
        "id": "QJg4EwcyhBoq"
      },
      "source": [
        "## Imports"
      ]
    },
    {
      "cell_type": "code",
      "execution_count": 1,
      "metadata": {
        "id": "iaGSR-gDBF3B"
      },
      "outputs": [],
      "source": [
        "from functools import partial\n",
        "import jax\n",
        "import jax.numpy as jnp\n",
        "import matplotlib.pyplot as plt"
      ]
    },
    {
      "cell_type": "markdown",
      "metadata": {
        "id": "UcAXjaTXrsOE"
      },
      "source": [
        "## Device"
      ]
    },
    {
      "cell_type": "code",
      "execution_count": 2,
      "metadata": {
        "colab": {
          "base_uri": "https://localhost:8080/"
        },
        "id": "x6BexhdbrsOE",
        "outputId": "ffa3012d-d4f8-4fde-8360-caa8192a6a81"
      },
      "outputs": [
        {
          "output_type": "stream",
          "name": "stdout",
          "text": [
            "Thu Feb  9 10:24:18 2023       \n",
            "+-----------------------------------------------------------------------------+\n",
            "| NVIDIA-SMI 510.47.03    Driver Version: 510.47.03    CUDA Version: 11.6     |\n",
            "|-------------------------------+----------------------+----------------------+\n",
            "| GPU  Name        Persistence-M| Bus-Id        Disp.A | Volatile Uncorr. ECC |\n",
            "| Fan  Temp  Perf  Pwr:Usage/Cap|         Memory-Usage | GPU-Util  Compute M. |\n",
            "|                               |                      |               MIG M. |\n",
            "|===============================+======================+======================|\n",
            "|   0  Tesla T4            Off  | 00000000:00:04.0 Off |                    0 |\n",
            "| N/A   65C    P0    29W /  70W |      0MiB / 15360MiB |      0%      Default |\n",
            "|                               |                      |                  N/A |\n",
            "+-------------------------------+----------------------+----------------------+\n",
            "                                                                               \n",
            "+-----------------------------------------------------------------------------+\n",
            "| Processes:                                                                  |\n",
            "|  GPU   GI   CI        PID   Type   Process name                  GPU Memory |\n",
            "|        ID   ID                                                   Usage      |\n",
            "|=============================================================================|\n",
            "|  No running processes found                                                 |\n",
            "+-----------------------------------------------------------------------------+\n"
          ]
        }
      ],
      "source": [
        "!nvidia-smi"
      ]
    },
    {
      "cell_type": "markdown",
      "metadata": {
        "id": "cfp4QsIwhIC2"
      },
      "source": [
        "## Vanilla algorithm"
      ]
    },
    {
      "cell_type": "code",
      "execution_count": 3,
      "metadata": {
        "id": "nyuGzpTklXWp"
      },
      "outputs": [],
      "source": [
        "@jax.jit\n",
        "def f(x):\n",
        "    return 2 * x * x * jnp.cos(x) - 5 * x"
      ]
    },
    {
      "cell_type": "code",
      "execution_count": 4,
      "metadata": {
        "id": "SdbwPyp9lg2M"
      },
      "outputs": [],
      "source": [
        "@jax.jit\n",
        "def df(x):\n",
        "    return 4 * x * jnp.cos(x) - 2 * x * x * jnp.sin(x) - 5"
      ]
    },
    {
      "cell_type": "code",
      "execution_count": 5,
      "metadata": {
        "id": "wktYZA09lk1q"
      },
      "outputs": [],
      "source": [
        "@partial(jax.jit, static_argnames=['alpha', 'epochs'])\n",
        "def gradient_descent(x, y, alpha: float, epochs: int):\n",
        "    for i in range(epochs):\n",
        "        x = jnp.concatenate([x, jnp.array([x[i] - alpha * df(x[i])])])\n",
        "        y = jnp.concatenate([y, jnp.array([f(x[i + 1])])])\n",
        "    return x, y"
      ]
    },
    {
      "cell_type": "code",
      "execution_count": 6,
      "metadata": {
        "id": "DJ5TwWU8lo4h"
      },
      "outputs": [],
      "source": [
        "def plot(curve, function, x, y, epochs: int):\n",
        "    plt.figure()  # create a figure\n",
        "    plt.plot(curve, function)  # plot curve\n",
        "    for i in range(epochs):\n",
        "        plt.scatter(x=x[i], y=y[i], c='red')\n",
        "    plt.xlabel(\"x\")\n",
        "    plt.ylabel(\"y\")\n",
        "    plt.grid()\n",
        "    plt.show()"
      ]
    },
    {
      "cell_type": "code",
      "execution_count": 7,
      "metadata": {
        "colab": {
          "base_uri": "https://localhost:8080/"
        },
        "id": "Kapdhpzulr-r",
        "outputId": "81ca3860-1ded-4875-8369-d8bbc68ad529"
      },
      "outputs": [
        {
          "output_type": "stream",
          "name": "stdout",
          "text": [
            "x values are: [-1.         -0.7260866  -0.4024997  -0.08477902  0.18205503  0.39684585\n",
            "  0.57973194  0.7511411   0.9298437   1.1379428   1.4100266   1.8111373\n",
            "  2.465953    3.481092    3.9840236   3.5799148   3.9342835   3.6341488\n",
            "  3.9000442   3.6700892   3.8747792 ] \n",
            "and y values are: [  6.0806046    4.4188933    2.3106172    0.43821844  -0.8450825\n",
            "  -1.6937342   -2.336309    -2.930927    -3.6152163   -4.6033773\n",
            "  -6.413606   -10.617292   -21.819742   -40.25811    -41.051125\n",
            " -41.108074   -41.40123    -41.4449     -41.582657   -41.61415\n",
            " -41.685944  ]\n"
          ]
        }
      ],
      "source": [
        "# Define min max on x axis, and number of points for curve\n",
        "curve = jnp.linspace(-5, 5, 100)\n",
        "# Define hyperparameters\n",
        "alpha = 0.05\n",
        "epochs = 20\n",
        "# Init starting point\n",
        "#x = [-1.]\n",
        "x = jnp.array([-1.])\n",
        "#y = [f(x[0])]\n",
        "y = jnp.array([f(x[0])])\n",
        "# Compute x[i] minus the learning rate multiplied by derivative of x[i]\n",
        "x, y = gradient_descent(x=x, y=y, alpha=alpha, epochs=epochs)\n",
        "print(f\"x values are: {x} \\nand y values are: {y}\")"
      ]
    },
    {
      "cell_type": "markdown",
      "metadata": {
        "id": "EF-7vuuVrsOG"
      },
      "source": [
        "## Plot"
      ]
    },
    {
      "cell_type": "code",
      "source": [
        "# Plot curve and points over epochs\n",
        "plot(curve=curve, function=f(curve), x=x, y=y, epochs=epochs)"
      ],
      "metadata": {
        "colab": {
          "base_uri": "https://localhost:8080/",
          "height": 279
        },
        "id": "cz6EjMkdsyTz",
        "outputId": "19e37222-755f-4612-81dc-45597810c2e2"
      },
      "execution_count": 8,
      "outputs": [
        {
          "output_type": "display_data",
          "data": {
            "text/plain": [
              "<Figure size 432x288 with 1 Axes>"
            ],
            "image/png": "[encoded data removed]"
          },
          "metadata": {
            "needs_background": "light"
          }
        }
      ]
    }
  ],
  "metadata": {
    "accelerator": "GPU",
    "colab": {
      "provenance": []
    },
    "gpuClass": "standard",
    "kernelspec": {
      "display_name": "base",
      "language": "python",
      "name": "python3"
    },
    "language_info": {
      "name": "python",
      "version": "3.10.9 | packaged by conda-forge | (main, Feb  2 2023, 20:26:08) [Clang 14.0.6 ]"
    },
    "vscode": {
      "interpreter": {
        "hash": "c6e4e9f98eb68ad3b7c296f83d20e6de614cb42e90992a65aa266555a3137d0d"
      }
    }
  },
  "nbformat": 4,
  "nbformat_minor": 0
}